{
 "cells": [
  {
   "cell_type": "markdown",
   "id": "048a180d-b8e5-4e5e-b7c3-b4b73657f160",
   "metadata": {},
   "source": [
    "# Setup\n",
    "Quick setup example.\n",
    "\n",
    "(For more information on what is available with the Hierarchical Localization codebase specifically, please check out the original notebooks from their repository: https://github.com/cvg/Hierarchical-Localization)"
   ]
  },
  {
   "cell_type": "code",
   "execution_count": null,
   "id": "a5446d6b-7537-46a3-9e45-d11013363836",
   "metadata": {},
   "outputs": [],
   "source": [
    "images = Path(\"datasets/put_your_data_folder_here\")\n",
    "outputs = Path(\"outputs/put_your_desired_output_folder_name_here/\")\n",
    "# !rm -rf $outputs <-- This line is useful if you want to clear up your outputs\n",
    "sfm_pairs = outputs / \"pairs-sfm.txt\"\n",
    "loc_pairs = outputs / \"pairs-loc.txt\"\n",
    "sfm_dir = outputs / \"sfm\"\n",
    "features = outputs / \"features.h5\"\n",
    "matches = outputs / \"matches.h5\"\n",
    "\n",
    "#These two lines decide which feature extraction and matching methods you want to use\n",
    "feature_conf = extract_features.confs[\"disk\"]\n",
    "matcher_conf = match_features.confs[\"disk+lightglue\"]"
   ]
  },
  {
   "cell_type": "markdown",
   "id": "157bbe19-856c-44a6-a5d8-af321173c125",
   "metadata": {},
   "source": [
    "# Example\n",
    "An example of a full SfM reconstruction setup."
   ]
  },
  {
   "cell_type": "code",
   "execution_count": null,
   "id": "d191f171-3405-4ead-8377-e8db4a4a45b5",
   "metadata": {},
   "outputs": [],
   "source": [
    "images = Path(\"datasets/put_your_data_folder_here\")\n",
    "outputs = Path(\"outputs/put_your_desired_output_folder_name_here/\")\n",
    "# !rm -rf $outputs <-- This line is useful if you want to clear up your outputs\n",
    "sfm_pairs = outputs / \"pairs-sfm.txt\"\n",
    "loc_pairs = outputs / \"pairs-loc.txt\"\n",
    "sfm_dir = outputs / \"sfm\"\n",
    "features = outputs / \"features.h5\"\n",
    "matches = outputs / \"matches.h5\"\n",
    "\n",
    "#These two lines decide which feature extraction and matching methods you want to use\n",
    "feature_conf = extract_features.confs[\"disk\"]\n",
    "matcher_conf = match_features.confs[\"disk+lightglue\"]\n",
    "\n",
    "my_references = [p.relative_to(images).as_posix() for p in sorted((images).iterdir())]\n",
    "\n",
    "#Extract features\n",
    "extract_features.main(\n",
    "    feature_conf, images, image_list=my_references, feature_path=features\n",
    ")\n",
    "\n",
    "#Create pairs and then matchings\n",
    "pairs_from_exhaustive.main(sfm_pairs, image_list=my_references)\n",
    "match_features.main(matcher_conf, sfm_pairs, features=features, matches=matches);\n",
    "\n",
    "#Create a reconstruction with the desired options. Here we are assuming a single camera is used (CameraMode.SINGLE) and that our camera is of the SIMPLE_RADIAL model.\n",
    "model = reconstruction.main(\n",
    "    sfm_dir, images, sfm_pairs, features, matches, image_list=my_references, camera_mode=pycolmap.CameraMode.SINGLE, image_options=dict(camera_model='SIMPLE_RADIAL')\n",
    ")\n",
    "\n",
    "#Save the result in text\n",
    "model.write_text(os.getcwd()/outputs)\n",
    "\n",
    "#Export a point cloud of the reconstruction\n",
    "model.export_PLY(os.path.join(os.getcwd()/outputs,\"rec.ply\"))"
   ]
  },
  {
   "cell_type": "markdown",
   "id": "eb0683f3-a6ef-4003-be0b-7912336ef6b5",
   "metadata": {},
   "source": [
    "# Visualization\n",
    "How to visualize our reconstruction (This can also be done by importing the previously exported point cloud with MeshLab)."
   ]
  },
  {
   "cell_type": "code",
   "execution_count": null,
   "id": "356ee263-d623-403b-b2a7-8825b23702fb",
   "metadata": {},
   "outputs": [],
   "source": [
    "#Load the existing reconstruction\n",
    "my_model = pycolmap.Reconstruction(os.getcwd()/outputs)\n",
    "\n",
    "#Setup, plot and show the figure\n",
    "fig = viz_3d.init_figure()\n",
    "viz_3d.plot_reconstruction(\n",
    "    fig, my_model, color=\"rgba(255,0,0,0.5)\", name=\"mug\", points_rgb=True\n",
    ")\n",
    "fig.show()"
   ]
  },
  {
   "cell_type": "markdown",
   "id": "1faaa46a-45ec-4987-b32a-0d76b50ae273",
   "metadata": {},
   "source": [
    "# Example of MVS and Poisson Reconstruction\n",
    "Example of getting a dense point cloud and then using Poisson Reconstruction for a surface reconstruction."
   ]
  },
  {
   "cell_type": "code",
   "execution_count": null,
   "id": "3cf13267-dbe4-41de-b55b-7d141f1a2b95",
   "metadata": {
    "scrolled": true
   },
   "outputs": [],
   "source": [
    "images = Path(\"datasets/put_your_data_folder_here\")\n",
    "outputs = Path(\"outputs/put_your_desired_output_folder_name_here/\")\n",
    "# !rm -rf $outputs <-- This line is useful if you want to clear up your outputs\n",
    "sfm_pairs = outputs / \"pairs-sfm.txt\"\n",
    "loc_pairs = outputs / \"pairs-loc.txt\"\n",
    "sfm_dir = outputs / \"sfm\"\n",
    "features = outputs / \"features.h5\"\n",
    "matches = outputs / \"matches.h5\"\n",
    "\n",
    "#These two lines decide which feature extraction and matching methods you want to use\n",
    "feature_conf = extract_features.confs[\"disk\"]\n",
    "matcher_conf = match_features.confs[\"disk+lightglue\"]\n",
    "\n",
    "my_references = [p.relative_to(images).as_posix() for p in sorted((images).iterdir())]\n",
    "\n",
    "#Extract features\n",
    "extract_features.main(\n",
    "    feature_conf, images, image_list=my_references, feature_path=features\n",
    ")\n",
    "\n",
    "#Create pairs and then matchings\n",
    "pairs_from_exhaustive.main(sfm_pairs, image_list=my_references)\n",
    "match_features.main(matcher_conf, sfm_pairs, features=features, matches=matches);\n",
    "\n",
    "#Create a reconstruction with the desired options. Here we are assuming a single camera is used (CameraMode.SINGLE) and that our camera is of the SIMPLE_RADIAL model.\n",
    "model = reconstruction.main(\n",
    "    sfm_dir, images, sfm_pairs, features, matches, image_list=my_references, camera_mode=pycolmap.CameraMode.SINGLE, image_options=dict(camera_model='SIMPLE_RADIAL')\n",
    ")\n",
    "\n",
    "#Save the result in text\n",
    "model.write_text(os.getcwd()/outputs)\n",
    "\n",
    "#Export a point cloud of the reconstruction\n",
    "model.export_PLY(os.path.join(os.getcwd()/outputs,\"rec.ply\"))\n",
    "\n",
    "#Create undistorted versions of our images, based on the camera model we are using to model the distortion\n",
    "pycolmap.undistort_images(mvs_path, outputs, images)\n",
    "\n",
    "#Do patch matching (extract depth maps) in before fusing information \n",
    "pycolmap.patch_match_stereo(mvs_path)  # Requires compilation with CUDA. This means that you need COLMAP installed from source, and you should be using the pycolmap code found in the COLMAP folder.\n",
    "\n",
    "#Do fusion and export a dense point cloud\n",
    "pycolmap.stereo_fusion(mvs_path / \"dense.ply\", mvs_path)\n",
    "\n",
    "#Take the dense point cloud and create a mesh through Poisson Reconstruction\n",
    "pycolmap.poisson_meshing(mvs_path / \"dense.ply\", mvs_path/ \"poisson.ply\")"
   ]
  }
 ],
 "metadata": {
  "kernelspec": {
   "display_name": "Python 3 (ipykernel)",
   "language": "python",
   "name": "python3"
  },
  "language_info": {
   "codemirror_mode": {
    "name": "ipython",
    "version": 3
   },
   "file_extension": ".py",
   "mimetype": "text/x-python",
   "name": "python",
   "nbconvert_exporter": "python",
   "pygments_lexer": "ipython3",
   "version": "3.8.18"
  }
 },
 "nbformat": 4,
 "nbformat_minor": 5
}
